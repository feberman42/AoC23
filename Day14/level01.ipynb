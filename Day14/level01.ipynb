{
 "cells": [
  {
   "cell_type": "code",
   "execution_count": 79,
   "metadata": {},
   "outputs": [
    {
     "name": "stdout",
     "output_type": "stream",
     "text": [
      "['O', '.', '.', '.', '.', '#', '.', '.', '.', '.']\n",
      "['O', '.', 'O', 'O', '#', '.', '.', '.', '.', '#']\n",
      "['.', '.', '.', '.', '.', '#', '#', '.', '.', '.']\n"
     ]
    }
   ],
   "source": [
    "lines = [[char for char in string] for string in [line.strip('\\n') for line in open('test').readlines()]]\n",
    "print(*lines[:3], sep='\\n')"
   ]
  },
  {
   "cell_type": "code",
   "execution_count": 80,
   "metadata": {},
   "outputs": [],
   "source": [
    "for count in range(1000):\n",
    "\tline_len = len(lines[0])\n",
    "\tline_count = len(lines)\n",
    "\tfor i in range(line_count):\n",
    "\t\tfor j in range(line_len):\n",
    "\t\t\tif (lines[i][j] == 'O'):\n",
    "\t\t\t\tk = i - 1\n",
    "\t\t\t\twhile (k >= 0):\n",
    "\t\t\t\t\tif (lines[k][j] != '.'):\n",
    "\t\t\t\t\t\tbreak\n",
    "\t\t\t\t\telse:\n",
    "\t\t\t\t\t\tlines[k][j] = 'O'\n",
    "\t\t\t\t\t\tg = k\n",
    "\t\t\t\t\t\twhile (lines[g][j] == 'O'):\n",
    "\t\t\t\t\t\t\tg += 1\n",
    "\t\t\t\t\t\t\tif (g == line_count):\n",
    "\t\t\t\t\t\t\t\tbreak\n",
    "\t\t\t\t\t\tlines[g - 1][j] = '.'\n",
    "\t\t\t\t\tk -= 1\n",
    "\tfor i in range(line_count):\n",
    "\t\tfor j in range(line_len):\n",
    "\t\t\tif (lines[i][j] == 'O'):\n",
    "\t\t\t\tk = j - 1\n",
    "\t\t\t\twhile (k >= 0):\n",
    "\t\t\t\t\tif (lines[i][k] != '.'):\n",
    "\t\t\t\t\t\tbreak\n",
    "\t\t\t\t\telse:\n",
    "\t\t\t\t\t\tlines[i][k] = 'O'\n",
    "\t\t\t\t\t\tg = k\n",
    "\t\t\t\t\t\twhile (lines[i][g] == 'O'):\n",
    "\t\t\t\t\t\t\tg += 1\n",
    "\t\t\t\t\t\t\tif (g == line_len):\n",
    "\t\t\t\t\t\t\t\tbreak\n",
    "\t\t\t\t\t\tlines[i][g - 1] = '.'\n",
    "\t\t\t\t\tk -= 1\n",
    "\tfor i in range(line_count - 1, -1, -1):\n",
    "\t\tfor j in range(line_len):\n",
    "\t\t\tif (lines[i][j] == 'O'):\n",
    "\t\t\t\tk = i + 1\n",
    "\t\t\t\twhile (k < line_count):\n",
    "\t\t\t\t\tif (lines[k][j] != '.'):\n",
    "\t\t\t\t\t\tbreak\n",
    "\t\t\t\t\telse:\n",
    "\t\t\t\t\t\tlines[k][j] = 'O'\n",
    "\t\t\t\t\t\tg = k\n",
    "\t\t\t\t\t\twhile (lines[g][j] == 'O'):\n",
    "\t\t\t\t\t\t\tg -= 1\n",
    "\t\t\t\t\t\t\tif (g == -1):\n",
    "\t\t\t\t\t\t\t\tbreak\n",
    "\t\t\t\t\t\tlines[g + 1][j] = '.'\n",
    "\t\t\t\t\tk += 1\n",
    "\tfor i in range(line_count):\n",
    "\t\tfor j in range(line_len - 1, -1, -1):\n",
    "\t\t\tif (lines[i][j] == 'O'):\n",
    "\t\t\t\tk = j + 1\n",
    "\t\t\t\twhile (k < line_len):\n",
    "\t\t\t\t\tif (lines[i][k] != '.'):\n",
    "\t\t\t\t\t\tbreak\n",
    "\t\t\t\t\telse:\n",
    "\t\t\t\t\t\tlines[i][k] = 'O'\n",
    "\t\t\t\t\t\tg = k\n",
    "\t\t\t\t\t\twhile (lines[i][g] == 'O'):\n",
    "\t\t\t\t\t\t\tg -= 1\n",
    "\t\t\t\t\t\t\tif (g == -1):\n",
    "\t\t\t\t\t\t\t\tbreak\n",
    "\t\t\t\t\t\tlines[i][g + 1] = '.'\n",
    "\t\t\t\t\tk += 1\t\t\t"
   ]
  },
  {
   "cell_type": "code",
   "execution_count": 81,
   "metadata": {},
   "outputs": [
    {
     "name": "stdout",
     "output_type": "stream",
     "text": [
      "['.', '.', '.', '.', '.', '#', '.', '.', '.', '.']\n",
      "['.', '.', '.', '.', '#', '.', '.', '.', 'O', '#']\n",
      "['.', '.', '.', '.', '.', '#', '#', '.', '.', '.']\n",
      "['.', '.', '.', '#', '.', '.', '.', '.', '.', '.']\n",
      "['.', '.', '.', '.', '.', 'O', 'O', 'O', '#', '.']\n",
      "['.', 'O', '#', '.', '.', '.', 'O', '#', '.', '#']\n",
      "['.', '.', '.', '.', 'O', '#', '.', '.', '.', 'O']\n",
      "['.', '.', '.', '.', '.', '.', 'O', 'O', 'O', 'O']\n",
      "['#', '.', '.', '.', '.', '#', '#', '#', '.', 'O']\n",
      "['#', '.', 'O', 'O', 'O', '#', '.', '.', 'O', 'O']\n"
     ]
    }
   ],
   "source": [
    "print(*lines, sep='\\n')"
   ]
  },
  {
   "cell_type": "code",
   "execution_count": 52,
   "metadata": {},
   "outputs": [
    {
     "data": {
      "text/plain": [
       "108857"
      ]
     },
     "execution_count": 52,
     "metadata": {},
     "output_type": "execute_result"
    }
   ],
   "source": [
    "sum"
   ]
  },
  {
   "cell_type": "code",
   "execution_count": 58,
   "metadata": {},
   "outputs": [
    {
     "name": "stdout",
     "output_type": "stream",
     "text": [
      "[10, 9, 8, 7, 6, 5, 4, 3, 2, 1, 0]\n"
     ]
    }
   ],
   "source": [
    "print(list(range(line_count, -1, -1)))\n"
   ]
  }
 ],
 "metadata": {
  "kernelspec": {
   "display_name": "Python 3",
   "language": "python",
   "name": "python3"
  },
  "language_info": {
   "codemirror_mode": {
    "name": "ipython",
    "version": 3
   },
   "file_extension": ".py",
   "mimetype": "text/x-python",
   "name": "python",
   "nbconvert_exporter": "python",
   "pygments_lexer": "ipython3",
   "version": "3.10.12"
  }
 },
 "nbformat": 4,
 "nbformat_minor": 2
}
