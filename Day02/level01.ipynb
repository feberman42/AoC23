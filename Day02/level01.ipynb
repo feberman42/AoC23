{
 "cells": [
  {
   "cell_type": "code",
   "execution_count": 2,
   "metadata": {},
   "outputs": [],
   "source": [
    "input = open('input')"
   ]
  },
  {
   "cell_type": "code",
   "execution_count": 3,
   "metadata": {},
   "outputs": [
    {
     "data": {
      "text/plain": [
       "['Game 1: 5 red, 1 green, 2 blue; 2 green, 8 blue, 6 red; 8 red, 3 blue, 2 green; 6 red, 1 green, 19 blue; 1 red, 17 blue\\n',\n",
       " 'Game 2: 4 red, 5 green, 2 blue; 7 red, 14 green, 3 blue; 2 green, 5 blue, 11 red; 10 blue, 3 green; 9 green, 6 blue, 13 red; 7 red, 5 green, 9 blue\\n',\n",
       " 'Game 3: 9 green, 18 blue, 1 red; 6 red, 10 blue, 5 green; 4 blue, 4 red, 15 green\\n',\n",
       " 'Game 4: 1 red, 13 green; 10 green, 2 red; 3 red, 4 green, 2 blue\\n',\n",
       " 'Game 5: 4 red, 2 green, 1 blue; 4 red, 9 blue; 4 green, 1 red, 6 blue; 3 blue, 2 green, 6 red; 5 red, 4 green, 1 blue\\n']"
      ]
     },
     "execution_count": 3,
     "metadata": {},
     "output_type": "execute_result"
    }
   ],
   "source": [
    "lines = input.readlines()\n",
    "lines[0:5]"
   ]
  },
  {
   "cell_type": "code",
   "execution_count": 7,
   "metadata": {},
   "outputs": [
    {
     "data": {
      "text/plain": [
       "[['5 red, 1 green, 2 blue',\n",
       "  '2 green, 8 blue, 6 red',\n",
       "  '8 red, 3 blue, 2 green',\n",
       "  '6 red, 1 green, 19 blue',\n",
       "  '1 red, 17 blue'],\n",
       " ['4 red, 5 green, 2 blue',\n",
       "  '7 red, 14 green, 3 blue',\n",
       "  '2 green, 5 blue, 11 red',\n",
       "  '10 blue, 3 green',\n",
       "  '9 green, 6 blue, 13 red',\n",
       "  '7 red, 5 green, 9 blue'],\n",
       " ['9 green, 18 blue, 1 red',\n",
       "  '6 red, 10 blue, 5 green',\n",
       "  '4 blue, 4 red, 15 green']]"
      ]
     },
     "execution_count": 7,
     "metadata": {},
     "output_type": "execute_result"
    }
   ],
   "source": [
    "games = []\n",
    "for line in lines:\n",
    "\tgames.append(line.strip(\" Game0123456789\").strip(': \\n').split('; '))\n",
    "\n",
    "games[0:3]"
   ]
  },
  {
   "cell_type": "code",
   "execution_count": 13,
   "metadata": {},
   "outputs": [
    {
     "name": "stdout",
     "output_type": "stream",
     "text": [
      "2617\n"
     ]
    }
   ],
   "source": [
    "red_max = 12\n",
    "green_max = 13\n",
    "blue_max = 14\n",
    "sum = 0\n",
    "\n",
    "for game in games:\n",
    "\tpossible = True\n",
    "\tfor pull in game:\n",
    "\t\tcolors = pull.split(', ')\n",
    "\t\tfor color in colors:\n",
    "\t\t\tif \"g\" in color and int(color.split()[0]) > green_max:\n",
    "\t\t\t\tpossible = False\n",
    "\t\t\tif \"b\" in color and int(color.split()[0]) > blue_max:\n",
    "\t\t\t\tpossible = False\n",
    "\t\t\tif \"d\" in color and int(color.split()[0]) > red_max:\n",
    "\t\t\t\tpossible = False\n",
    "\tif possible:\n",
    "\t\tsum += games.index(game) + 1\n",
    "\n",
    "print(sum)\n",
    "\t\t\t\n"
   ]
  }
 ],
 "metadata": {
  "kernelspec": {
   "display_name": "Python 3",
   "language": "python",
   "name": "python3"
  },
  "language_info": {
   "codemirror_mode": {
    "name": "ipython",
    "version": 3
   },
   "file_extension": ".py",
   "mimetype": "text/x-python",
   "name": "python",
   "nbconvert_exporter": "python",
   "pygments_lexer": "ipython3",
   "version": "3.10.12"
  }
 },
 "nbformat": 4,
 "nbformat_minor": 2
}
