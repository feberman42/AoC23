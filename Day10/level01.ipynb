{
 "cells": [
  {
   "cell_type": "markdown",
   "metadata": {},
   "source": [
    "Open the Input and read lines as a list."
   ]
  },
  {
   "cell_type": "code",
   "execution_count": 28,
   "metadata": {},
   "outputs": [
    {
     "name": "stdout",
     "output_type": "stream",
     "text": [
      "['F', 'F', '-', '7', 'F', '-', '7', '.', '|', 'F', 'J', '7', 'L', '-', '7', '-', '.', 'F', 'L', '-', 'F', '7', '|', '-', '7', 'F', 'F', 'F', '7', '7', 'J', '.', '|', '7', 'F', '-', '-', 'J', '-', 'F', 'F', '7', '-', 'L', '.', '.', '-', '7', 'F', 'F', '-', 'L', 'F', '7', 'F', '|', '-', 'F', '|', '7', '-', 'L', '-', 'F', 'L', 'J', '7', '-', 'F', 'F', '-', 'J', 'F', 'F', '-', '7', '-', '7', '.', '-', 'J', '-', '.', '-', '-', '7', '.', '-', 'F', '-', '-', '-', 'F', 'J', '-', '|', '.', '.', '-', 'J', '7', '.', '|', 'J', '-', '7', '7', '-', 'F', '7', '-', '-', '-', '7', '7', 'F', 'F', 'L', 'J', '7', '.', 'L', 'F', 'J', 'F', '7', '.', 'F', 'L', '|', '-', 'J', '-', '-', '7', '-', 'L', 'J', '-', '|']\n",
      "['J', '.', '-', 'L', '-', 'J', 'F', '-', 'L', '7', 'J', '|', 'L', 'L', '|', '7', 'F', 'L', '7', 'L', 'L', '|', '|', '.', 'L', 'J', '-', '-', 'J', '7', 'J', 'F', 'L', '|', 'J', '7', '|', '7', '.', 'J', 'L', 'J', '|', 'L', '-', 'L', '7', 'L', '7', '-', '7', 'J', '|', 'L', '7', '|', 'L', '|', '|', '.', '.', '|', '7', 'L', '.', 'L', '7', '.', 'F', 'L', '7', '-', 'L', '-', '-', 'L', '-', 'J', 'L', 'J', '.', '.', 'F', 'L', 'J', '|', 'F', '7', 'L', '|', '7', '-', 'J', 'J', '-', 'L', 'L', 'L', 'J', 'J', 'L', 'F', '.', '.', 'F', '7', '7', 'F', 'L', 'J', '7', 'F', 'F', '7', '-', 'L', '7', '|', '-', 'L', '7', '-', '|', '7', '|', '.', 'F', 'F', 'J', 'J', 'J', '7', 'L', '-', 'L', 'J', '|', '.', '.', 'J']\n",
      "['|', '|', '.', '.', 'L', '7', '.', 'L', 'L', '-', '7', 'J', '-', '.', 'F', '7', '7', 'F', '7', 'J', 'F', '|', '-', '-', 'L', '.', '|', '7', 'L', 'J', '-', 'J', '.', 'L', '-', 'F', 'F', '7', 'J', '.', '.', '.', '|', '|', '|', 'J', 'F', 'J', 'L', 'J', '7', '.', 'L', '-', 'L', '7', '7', 'L', '|', '.', '7', '.', '|', '|', '7', '-', 'J', '7', 'J', '7', 'L', 'F', 'J', '.', '7', 'F', '|', '|', '-', '|', '.', '7', 'L', 'L', '7', '7', '.', 'J', 'L', 'J', 'J', '7', '|', 'F', '|', 'F', '|', '.', '.', 'F', '.', '|', '.', 'F', 'L', 'L', 'L', '-', '.', '-', '-', '-', 'F', '-', '7', '.', 'F', '7', 'J', '.', '7', '-', 'J', 'L', 'L', '7', '-', '-', '7', '7', '.', '|', 'F', 'F', 'J', '.', '7', 'F', '7', 'J']\n",
      "['F', '-', '7', 'J', '.', 'L', '-', '7', 'L', 'F', 'J', 'J', '7', '.', 'L', 'F', '-', 'F', '7', '7', '.', '|', 'L', 'F', 'L', 'F', 'F', 'J', '|', 'J', 'J', 'L', '7', 'J', 'L', 'L', '|', 'J', 'L', 'F', '-', '-', '7', 'J', '7', '-', 'L', '.', '|', 'F', 'J', '.', 'L', 'F', '-', 'J', '-', '-', 'L', '-', '|', '.', 'L', '7', 'L', 'L', '|', '7', '.', '-', 'J', '|', 'L', '|', '-', '-', 'F', '7', 'J', 'L', '7', 'L', '.', 'L', 'L', 'J', 'F', 'L', '-', 'J', '7', '.', '7', '7', '-', '7', '7', '7', '7', 'F', '-', 'F', '7', 'F', '7', 'F', '-', 'J', '7', 'F', '|', '.', 'J', '|', 'L', '7', 'L', '|', 'L', 'F', 'J', 'L', 'J', '7', 'L', '7', '7', '|', '-', '|', '7', '7', '-', 'F', '-', 'F', '-', '7', 'L', '|']\n",
      "['.', '-', '7', '|', '|', '7', 'J', '7', '.', 'J', 'J', 'F', 'F', '-', '.', '|', 'F', 'J', '|', '.', 'L', 'L', '.', 'J', '.', '|', 'L', 'F', 'J', '.', 'L', '-', 'L', 'J', 'F', 'F', 'L', '7', 'F', 'J', 'F', '-', 'J', '|', 'F', '7', '|', '-', '7', '7', 'J', '.', 'F', '7', 'L', 'F', '-', 'F', '|', '7', '7', '-', 'F', '|', '7', '.', '.', 'F', '-', 'J', 'F', 'L', '.', 'J', '|', '|', '|', '7', '.', 'F', 'F', 'J', '.', 'F', 'J', 'F', 'F', 'J', 'L', 'J', '7', 'F', 'L', 'J', 'J', '|', '|', 'F', 'F', '7', 'F', 'J', 'L', '-', '-', '7', 'J', '.', '|', '|', '-', 'F', 'L', '-', 'J', 'L', '-', 'J', 'F', 'L', '.', 'L', 'J', '|', 'J', '.', 'L', '.', '|', '.', 'L', '7', '7', '7', '|', '.', 'F', 'L', '7', '7']\n"
     ]
    }
   ],
   "source": [
    "input = open('input')\n",
    "lines = [[x for x in line] for line in [i.strip('\\n') for i in input.readlines()]]\n",
    "print(*lines[:5], sep='\\n')"
   ]
  },
  {
   "cell_type": "markdown",
   "metadata": {},
   "source": [
    "Find S."
   ]
  },
  {
   "cell_type": "code",
   "execution_count": 29,
   "metadata": {},
   "outputs": [
    {
     "name": "stdout",
     "output_type": "stream",
     "text": [
      "52 100\n"
     ]
    }
   ],
   "source": [
    "for y in range(len(lines)):\n",
    "\tfor x in range(len(lines[y])):\n",
    "\t\tif lines[y][x] == 'S':\n",
    "\t\t\tsx = x\n",
    "\t\t\tsy = y\n",
    "print(sy, sx)"
   ]
  },
  {
   "cell_type": "markdown",
   "metadata": {},
   "source": [
    "Define function to move through the pipes."
   ]
  },
  {
   "cell_type": "code",
   "execution_count": 30,
   "metadata": {},
   "outputs": [],
   "source": [
    "def\tmove(pos: list[int], _from: str) -> list[int]:\n",
    "\tpipe = lines[pos[0]][pos[1]]\n",
    "\tif (pipe in '-FL' and _from != 'E'):\n",
    "\t\treturn [0, 1]\n",
    "\telif (pipe in '-7J' and _from != 'W'):\n",
    "\t\treturn [0, -1]\n",
    "\telif (pipe in '|JL' and _from != 'N'):\n",
    "\t\treturn [-1, 0]\n",
    "\telif (pipe in '|7F' and _from != 'S'):\n",
    "\t\treturn [1, 0]"
   ]
  },
  {
   "cell_type": "markdown",
   "metadata": {},
   "source": [
    "Find the first move forward by searching clockwise."
   ]
  },
  {
   "cell_type": "code",
   "execution_count": 31,
   "metadata": {},
   "outputs": [
    {
     "name": "stdout",
     "output_type": "stream",
     "text": [
      "52 101\n"
     ]
    }
   ],
   "source": [
    "fy = sy\n",
    "fx = sx\n",
    "if (lines[sy][sx + 1] in \"J-7\"):\n",
    "\tfx += 1\n",
    "elif (lines[sy + 1][sx] in \"|LJ\"):\n",
    "\tfy += 1\n",
    "elif (lines[sy][sx - 1] in \"F-L\"):\n",
    "\tfx -= 1\n",
    "elif (lines[sy - 1][sx] in \"|F7\"):\n",
    "\tfy -= 1\n",
    "print(fy, fx)"
   ]
  },
  {
   "cell_type": "markdown",
   "metadata": {},
   "source": [
    "Find the first move backwards by searching counter clockwise."
   ]
  },
  {
   "cell_type": "code",
   "execution_count": 32,
   "metadata": {},
   "outputs": [
    {
     "name": "stdout",
     "output_type": "stream",
     "text": [
      "52 99\n"
     ]
    }
   ],
   "source": [
    "by = sy\n",
    "bx = sx\n",
    "if (lines[sy - 1][sx] in \"|F7\"):\n",
    "\tby -= 1\n",
    "elif (lines[sy][sx - 1] in \"F-L\"):\n",
    "\tbx -= 1\n",
    "elif (lines[sy + 1][sx] in \"|LJ\"):\n",
    "\tby += 1\n",
    "elif (lines[sy][sx + 1] in \"J-7\"):\n",
    "\tbx += 1\n",
    "print(by, bx)"
   ]
  },
  {
   "cell_type": "markdown",
   "metadata": {},
   "source": [
    "Define a fuction to find out, where the current move came from."
   ]
  },
  {
   "cell_type": "code",
   "execution_count": 33,
   "metadata": {},
   "outputs": [],
   "source": [
    "def\tget_dir(diff: list[int]) -> str:\n",
    "\tif (diff[0] > 0):\n",
    "\t\treturn 'N'\n",
    "\telif (diff[0] < 0):\n",
    "\t\treturn 'S'\n",
    "\telif (diff[1] > 0):\n",
    "\t\treturn 'W'\n",
    "\telif (diff[1] < 0):\n",
    "\t\treturn 'E'"
   ]
  },
  {
   "cell_type": "markdown",
   "metadata": {},
   "source": [
    "Move bith pointers until they meet."
   ]
  },
  {
   "cell_type": "code",
   "execution_count": 34,
   "metadata": {},
   "outputs": [
    {
     "name": "stdout",
     "output_type": "stream",
     "text": [
      "Result: 6823\n"
     ]
    }
   ],
   "source": [
    "steps = 1\n",
    "fd = 'W'\n",
    "bd = 'E'\n",
    "while (by != fy or bx != fx):\n",
    "\tm = move([fy, fx], fd)\n",
    "\tfy += m[0]\n",
    "\tfx += m[1]\n",
    "\tfd = get_dir(m)\n",
    "\tm = move([by, bx], bd)\n",
    "\tby += m[0]\n",
    "\tbx += m[1]\n",
    "\tbd = get_dir(m)\n",
    "\tsteps += 1\n",
    "print('Result:', steps)"
   ]
  }
 ],
 "metadata": {
  "kernelspec": {
   "display_name": "Python 3",
   "language": "python",
   "name": "python3"
  },
  "language_info": {
   "codemirror_mode": {
    "name": "ipython",
    "version": 3
   },
   "file_extension": ".py",
   "mimetype": "text/x-python",
   "name": "python",
   "nbconvert_exporter": "python",
   "pygments_lexer": "ipython3",
   "version": "3.10.12"
  }
 },
 "nbformat": 4,
 "nbformat_minor": 2
}
