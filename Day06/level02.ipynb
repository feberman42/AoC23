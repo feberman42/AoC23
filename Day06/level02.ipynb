{
 "cells": [
  {
   "cell_type": "markdown",
   "metadata": {},
   "source": [
    "Open the Input and read lines as a list."
   ]
  },
  {
   "cell_type": "code",
   "execution_count": 2,
   "metadata": {},
   "outputs": [
    {
     "data": {
      "text/plain": [
       "['Time:        58     81     96     76\\n',\n",
       " 'Distance:   434   1041   2219   1218']"
      ]
     },
     "execution_count": 2,
     "metadata": {},
     "output_type": "execute_result"
    }
   ],
   "source": [
    "input = open('input')\n",
    "lines = input.readlines()\n",
    "lines"
   ]
  },
  {
   "cell_type": "markdown",
   "metadata": {},
   "source": [
    "Parse the input into times and distances. Then join them to a single number each."
   ]
  },
  {
   "cell_type": "code",
   "execution_count": 5,
   "metadata": {},
   "outputs": [
    {
     "name": "stdout",
     "output_type": "stream",
     "text": [
      "Time: 58819676 \n",
      "Distance: 434104122191218\n"
     ]
    }
   ],
   "source": [
    "times = [i for i in lines[0].split()[1:]]\n",
    "distances = [i for i in lines[1].split()[1:]]\n",
    "time = int(''.join(times))\n",
    "distance = int(''.join(distances))\n",
    "print('Time:', time, '\\nDistance:', distance)"
   ]
  },
  {
   "cell_type": "markdown",
   "metadata": {},
   "source": [
    "Calculate all possible press-duration and count the winning ones."
   ]
  },
  {
   "cell_type": "code",
   "execution_count": 7,
   "metadata": {},
   "outputs": [
    {
     "name": "stdout",
     "output_type": "stream",
     "text": [
      "Result: 41513103\n"
     ]
    }
   ],
   "source": [
    "winning = 0\n",
    "for i in range(time + 1):\n",
    "\tif (distance < i * (time - i)):\n",
    "\t\twinning += 1\n",
    "print('Result:', winning)"
   ]
  }
 ],
 "metadata": {
  "kernelspec": {
   "display_name": "Python 3",
   "language": "python",
   "name": "python3"
  },
  "language_info": {
   "codemirror_mode": {
    "name": "ipython",
    "version": 3
   },
   "file_extension": ".py",
   "mimetype": "text/x-python",
   "name": "python",
   "nbconvert_exporter": "python",
   "pygments_lexer": "ipython3",
   "version": "3.10.12"
  }
 },
 "nbformat": 4,
 "nbformat_minor": 2
}
