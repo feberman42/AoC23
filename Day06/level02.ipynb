{
 "cells": [
  {
   "cell_type": "code",
   "execution_count": 1,
   "metadata": {},
   "outputs": [
    {
     "data": {
      "text/plain": [
       "['Time:        58     81     96     76\\n',\n",
       " 'Distance:   434   1041   2219   1218']"
      ]
     },
     "execution_count": 1,
     "metadata": {},
     "output_type": "execute_result"
    }
   ],
   "source": [
    "input = open('input')\n",
    "lines = input.readlines()\n",
    "lines"
   ]
  },
  {
   "cell_type": "code",
   "execution_count": 6,
   "metadata": {},
   "outputs": [],
   "source": [
    "times = [i for i in lines[0].split()[1:]]\n",
    "distances = [i for i in lines[1].split()[1:]]\n",
    "time = int(''.join(times))\n",
    "distance = int(''.join(distances))"
   ]
  },
  {
   "cell_type": "code",
   "execution_count": 7,
   "metadata": {},
   "outputs": [
    {
     "name": "stdout",
     "output_type": "stream",
     "text": [
      "41513103\n"
     ]
    }
   ],
   "source": [
    "margin = []\n",
    "for i in range(time + 1):\n",
    "\tif (distance < i * (time - i)):\n",
    "\t\tmargin.append(i)\n",
    "print(len(margin))"
   ]
  },
  {
   "cell_type": "code",
   "execution_count": null,
   "metadata": {},
   "outputs": [],
   "source": []
  }
 ],
 "metadata": {
  "kernelspec": {
   "display_name": "Python 3",
   "language": "python",
   "name": "python3"
  },
  "language_info": {
   "codemirror_mode": {
    "name": "ipython",
    "version": 3
   },
   "file_extension": ".py",
   "mimetype": "text/x-python",
   "name": "python",
   "nbconvert_exporter": "python",
   "pygments_lexer": "ipython3",
   "version": "3.10.12"
  }
 },
 "nbformat": 4,
 "nbformat_minor": 2
}
