{
 "cells": [
  {
   "cell_type": "markdown",
   "metadata": {},
   "source": [
    "Read input as list of strings."
   ]
  },
  {
   "cell_type": "code",
   "execution_count": 8,
   "metadata": {},
   "outputs": [
    {
     "data": {
      "text/plain": [
       "['.#...........#.........................................................................#...............#...........#........................',\n",
       " '.......................#....................................................................................................................',\n",
       " '...............................#...........#.................#.............................#.............................................#..']"
      ]
     },
     "execution_count": 8,
     "metadata": {},
     "output_type": "execute_result"
    }
   ],
   "source": [
    "lines = [i.strip('\\n') for i in open('input', 'r').readlines()]\n",
    "lines[:3]"
   ]
  },
  {
   "cell_type": "markdown",
   "metadata": {},
   "source": [
    "Expand empty lines."
   ]
  },
  {
   "cell_type": "code",
   "execution_count": 9,
   "metadata": {},
   "outputs": [],
   "source": [
    "lines_exp = []\n",
    "for line in lines:\n",
    "\tlines_exp.append(line)\n",
    "\tif line.find('#') == -1:\n",
    "\t\tlines_exp.append(line)"
   ]
  },
  {
   "cell_type": "code",
   "execution_count": 17,
   "metadata": {},
   "outputs": [],
   "source": [
    "lines_exp = [[i for i in line] for line in lines_exp]"
   ]
  },
  {
   "cell_type": "code",
   "execution_count": 18,
   "metadata": {},
   "outputs": [],
   "source": [
    "for i in range(len(lines_exp[0])):\n",
    "\tempty = True\n",
    "\tfor line in lines_exp:\n",
    "\t\tif (line[i] == '#'):\n",
    "\t\t\tempty = False\n",
    "\tif (empty == True):\n",
    "\t\tfor line in lines_exp:\n",
    "\t\t\tline[i] = '..'"
   ]
  },
  {
   "cell_type": "code",
   "execution_count": 23,
   "metadata": {},
   "outputs": [],
   "source": [
    "lines_exp = [''.join(line) for line in lines_exp]\n",
    "lines_exp = [[i for i in line] for line in lines_exp]"
   ]
  },
  {
   "cell_type": "code",
   "execution_count": 25,
   "metadata": {},
   "outputs": [],
   "source": [
    "galaxies = []\n",
    "for y in range(len(lines_exp)):\n",
    "\tfor x in range(len(lines_exp[0])):\n",
    "\t\tif (lines_exp[y][x] == '#'):\n",
    "\t\t\tgalaxies.append([y, x])"
   ]
  },
  {
   "cell_type": "code",
   "execution_count": 27,
   "metadata": {},
   "outputs": [],
   "source": [
    "sum = 0\n",
    "for i in range(len(galaxies)):\n",
    "\tfor galaxy in galaxies[i + 1:]:\n",
    "\t\tsum += abs(galaxies[i][0] - galaxy[0])\n",
    "\t\tsum += abs(galaxies[i][1] - galaxy[1])"
   ]
  },
  {
   "cell_type": "code",
   "execution_count": 28,
   "metadata": {},
   "outputs": [
    {
     "data": {
      "text/plain": [
       "9686930"
      ]
     },
     "execution_count": 28,
     "metadata": {},
     "output_type": "execute_result"
    }
   ],
   "source": [
    "sum"
   ]
  },
  {
   "cell_type": "code",
   "execution_count": null,
   "metadata": {},
   "outputs": [],
   "source": []
  }
 ],
 "metadata": {
  "kernelspec": {
   "display_name": "Python 3",
   "language": "python",
   "name": "python3"
  },
  "language_info": {
   "codemirror_mode": {
    "name": "ipython",
    "version": 3
   },
   "file_extension": ".py",
   "mimetype": "text/x-python",
   "name": "python",
   "nbconvert_exporter": "python",
   "pygments_lexer": "ipython3",
   "version": "3.10.12"
  }
 },
 "nbformat": 4,
 "nbformat_minor": 2
}
