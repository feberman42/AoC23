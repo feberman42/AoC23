{
 "cells": [
  {
   "cell_type": "code",
   "execution_count": 7,
   "metadata": {},
   "outputs": [],
   "source": [
    "from typing import List"
   ]
  },
  {
   "cell_type": "code",
   "execution_count": 2,
   "metadata": {},
   "outputs": [],
   "source": [
    "input = open('input')"
   ]
  },
  {
   "cell_type": "code",
   "execution_count": 3,
   "metadata": {},
   "outputs": [
    {
     "data": {
      "text/plain": [
       "['Card   1: 47 10 77 75 94 50 93 43 27 18 | 73 75 32 65 98 76 71 13 50 78 54 94 18 83 77  6 79 93 45 27 87 57 51 55 43\\n',\n",
       " 'Card   2: 17  9  7 91 32 97 76 39 83 88 | 88 25 46 50 91 18 39 76 17 22 28 82 44 66 52  7 11 56 77  9 40 83 97 32 47\\n',\n",
       " 'Card   3: 32  2 10 96 30 37 60 86 88 50 | 64 96 58 41 24 37 86 84 80 49 30 53 83 50 42 33  2 52 88 46 19 89 32 51  5\\n',\n",
       " 'Card   4: 62 21 85 90 64 44 29  2 86 84 | 98 21 82 55 62 14  3 33  7 90 85 57 94 44 64  5 43 91 96 67 84 78 69 81 29\\n',\n",
       " 'Card   5: 85 28 74 24 52 88 22 50 66 61 | 93 43 52 91 66 88 53 82 87 22 47 69 74 28 50 85 83 24 42 23 46 61 76 37 41\\n']"
      ]
     },
     "execution_count": 3,
     "metadata": {},
     "output_type": "execute_result"
    }
   ],
   "source": [
    "lines = input.readlines()\n",
    "lines[0:5]"
   ]
  },
  {
   "cell_type": "code",
   "execution_count": 4,
   "metadata": {},
   "outputs": [
    {
     "data": {
      "text/plain": [
       "[['47 10 77 75 94 50 93 43 27 18 ',\n",
       "  ' 73 75 32 65 98 76 71 13 50 78 54 94 18 83 77  6 79 93 45 27 87 57 51 55 43'],\n",
       " ['17  9  7 91 32 97 76 39 83 88 ',\n",
       "  ' 88 25 46 50 91 18 39 76 17 22 28 82 44 66 52  7 11 56 77  9 40 83 97 32 47'],\n",
       " ['32  2 10 96 30 37 60 86 88 50 ',\n",
       "  ' 64 96 58 41 24 37 86 84 80 49 30 53 83 50 42 33  2 52 88 46 19 89 32 51  5']]"
      ]
     },
     "execution_count": 4,
     "metadata": {},
     "output_type": "execute_result"
    }
   ],
   "source": [
    "cards = []\n",
    "for line in lines:\n",
    "\tcards.append(line.strip(\"Card 0123456789\").strip(': \\n').split('|'))\n",
    "cards[0:3]"
   ]
  },
  {
   "cell_type": "code",
   "execution_count": 15,
   "metadata": {},
   "outputs": [],
   "source": [
    "def process_card(cards: List[List[str]], card: List[str]) -> int:\n",
    "\twinners = [int(i) for i in card[0].split()]\n",
    "\tnumbers = [int(i) for i in card[1].split()]\n",
    "\twin = 0\n",
    "\t\n",
    "\tfor num in numbers:\n",
    "\t\tif (num in winners):\n",
    "\t\t\twin += 1\n",
    "\tindex_ = cards.index(card)\n",
    "\tcard_sum = 1\n",
    "\tif (win == 0):\n",
    "\t\treturn (card_sum)\n",
    "\tfor i in range(index_ + 1, index_ + win + 1):\n",
    "\t\tif i < len(cards):\n",
    "\t\t\tcard_sum += process_card(cards, cards[i])\n",
    "\treturn (card_sum)"
   ]
  },
  {
   "cell_type": "code",
   "execution_count": null,
   "metadata": {},
   "outputs": [],
   "source": [
    "sum = 0\n",
    "for card in cards:\n",
    "\tprint(\"Process card \" + str(cards.index(card)) + \" of \" + str(len(cards)))\n",
    "\tsum += process_card(cards, card)\n",
    "print(sum)"
   ]
  }
 ],
 "metadata": {
  "kernelspec": {
   "display_name": "Python 3",
   "language": "python",
   "name": "python3"
  },
  "language_info": {
   "codemirror_mode": {
    "name": "ipython",
    "version": 3
   },
   "file_extension": ".py",
   "mimetype": "text/x-python",
   "name": "python",
   "nbconvert_exporter": "python",
   "pygments_lexer": "ipython3",
   "version": "3.10.12"
  }
 },
 "nbformat": 4,
 "nbformat_minor": 2
}
