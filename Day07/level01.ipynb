{
 "cells": [
  {
   "cell_type": "markdown",
   "metadata": {},
   "source": [
    "Open the Input and read lines as a list."
   ]
  },
  {
   "cell_type": "code",
   "execution_count": 1,
   "metadata": {},
   "outputs": [
    {
     "data": {
      "text/plain": [
       "['342QK 491\\n', '36QAT 619\\n', '85663 606\\n']"
      ]
     },
     "execution_count": 1,
     "metadata": {},
     "output_type": "execute_result"
    }
   ],
   "source": [
    "input = open('input')\n",
    "lines = input.readlines()\n",
    "lines[0:3]"
   ]
  },
  {
   "cell_type": "markdown",
   "metadata": {},
   "source": [
    "Parse the input into a list of games[hand, bid]."
   ]
  },
  {
   "cell_type": "code",
   "execution_count": 2,
   "metadata": {},
   "outputs": [
    {
     "name": "stdout",
     "output_type": "stream",
     "text": [
      "Games:\n",
      "['342QK', 491]\n",
      "['36QAT', 619]\n",
      "['85663', 606]\n",
      "['33K3A', 23]\n",
      "['K7775', 814]\n"
     ]
    }
   ],
   "source": [
    "hands = [line.split()[0] for line in lines]\n",
    "bids = [int(line.split()[1]) for line in lines]\n",
    "games = []\n",
    "for i in range(len(hands)):\n",
    "\tgames.append([hands[i], bids[i]])\n",
    "print('Games:', *games[0:5], sep='\\n')"
   ]
  },
  {
   "cell_type": "code",
   "execution_count": 23,
   "metadata": {},
   "outputs": [],
   "source": [
    "def\tcheck_kinds(hand: str, number: int) -> bool:\n",
    "\tfor card in hand:\n",
    "\t\tcount = 0\n",
    "\t\tfor _card in hand:\n",
    "\t\t\tif (card == _card):\n",
    "\t\t\t\tcount += 1\n",
    "\t\tif count == number:\n",
    "\t\t\treturn True\n",
    "\treturn False"
   ]
  },
  {
   "cell_type": "code",
   "execution_count": 24,
   "metadata": {},
   "outputs": [],
   "source": [
    "def\tcheck_house(hand: str) -> bool:\n",
    "\tfor card in hand:\n",
    "\t\tcount = 0\n",
    "\t\tfor _card in hand:\n",
    "\t\t\tif (card == _card):\n",
    "\t\t\t\tcount += 1\n",
    "\t\tif count == 3:\n",
    "\t\t\tthree = card\n",
    "\t\t\tfor card in hand:\n",
    "\t\t\t\tcount = 0\n",
    "\t\t\t\tif card == three:\n",
    "\t\t\t\t\tcontinue\n",
    "\t\t\t\tfor _card in hand:\n",
    "\t\t\t\t\tif (_card == card):\n",
    "\t\t\t\t\t\tcount += 1\n",
    "\t\t\t\tif (count == 2):\n",
    "\t\t\t\t\treturn True\n",
    "\treturn False"
   ]
  },
  {
   "cell_type": "code",
   "execution_count": 25,
   "metadata": {},
   "outputs": [],
   "source": [
    "def\tcheck_pairs(hand: str) -> bool:\n",
    "\tfor card in hand:\n",
    "\t\tcount = 0\n",
    "\t\tfor _card in hand:\n",
    "\t\t\tif (card == _card):\n",
    "\t\t\t\tcount += 1\n",
    "\t\tif count == 2:\n",
    "\t\t\tthree = card\n",
    "\t\t\tfor card in hand:\n",
    "\t\t\t\tcount = 0\n",
    "\t\t\t\tif card == three:\n",
    "\t\t\t\t\tcontinue\n",
    "\t\t\t\tfor _card in hand:\n",
    "\t\t\t\t\tif (_card == card):\n",
    "\t\t\t\t\t\tcount += 1\n",
    "\t\t\t\tif (count == 2):\n",
    "\t\t\t\t\treturn True\n",
    "\treturn False"
   ]
  },
  {
   "cell_type": "code",
   "execution_count": 26,
   "metadata": {},
   "outputs": [],
   "source": [
    "fives = []\n",
    "fours = []\n",
    "houses = []\n",
    "threes = []\n",
    "pairs = []\n",
    "twos = []\n",
    "highs = []"
   ]
  },
  {
   "cell_type": "code",
   "execution_count": 27,
   "metadata": {},
   "outputs": [],
   "source": [
    "for game in games:\n",
    "\tif (check_kinds(game[0], 5)):\n",
    "\t\tfives.append(game)\n",
    "\telif (check_kinds(game[0], 4)):\n",
    "\t\tfours.append(game)\n",
    "\telif (check_house(game[0])):\n",
    "\t\thouses.append(game)\n",
    "\telif (check_kinds(game[0], 3)):\n",
    "\t\tthrees.append(game)\n",
    "\telif (check_pairs(game[0])):\n",
    "\t\tpairs.append(game)\n",
    "\telif (check_kinds(game[0], 2)):\n",
    "\t\ttwos.append(game)\n",
    "\telse:\n",
    "\t\thighs.append(game)"
   ]
  },
  {
   "cell_type": "code",
   "execution_count": 42,
   "metadata": {},
   "outputs": [],
   "source": [
    "def\tis_smaller(smaller: str, than: str) -> bool:\n",
    "\tref = 'AKQJT98765432'\n",
    "\tfor i in range(len(smaller)):\n",
    "\t\tif (ref.index(smaller[i]) < ref.index(than[i])):\n",
    "\t\t\treturn False\n",
    "\t\telif (ref.index(smaller[i]) > ref.index(than[i])):\n",
    "\t\t\treturn True\n",
    "\treturn False"
   ]
  },
  {
   "cell_type": "code",
   "execution_count": 43,
   "metadata": {},
   "outputs": [],
   "source": [
    "def\tfind_lowest(_list: list):\n",
    "\tlowest = _list[0][0]\n",
    "\tfor hand in _list:\n",
    "\t\tif (is_smaller(hand[0], lowest)):\n",
    "\t\t\tlowest = hand[0]\n",
    "\treturn (lowest)"
   ]
  },
  {
   "cell_type": "code",
   "execution_count": 45,
   "metadata": {},
   "outputs": [
    {
     "data": {
      "text/plain": [
       "'22225'"
      ]
     },
     "execution_count": 45,
     "metadata": {},
     "output_type": "execute_result"
    }
   ],
   "source": [
    "find_lowest(fours)"
   ]
  },
  {
   "cell_type": "code",
   "execution_count": null,
   "metadata": {},
   "outputs": [],
   "source": []
  }
 ],
 "metadata": {
  "kernelspec": {
   "display_name": "Python 3",
   "language": "python",
   "name": "python3"
  },
  "language_info": {
   "codemirror_mode": {
    "name": "ipython",
    "version": 3
   },
   "file_extension": ".py",
   "mimetype": "text/x-python",
   "name": "python",
   "nbconvert_exporter": "python",
   "pygments_lexer": "ipython3",
   "version": "3.10.12"
  }
 },
 "nbformat": 4,
 "nbformat_minor": 2
}
