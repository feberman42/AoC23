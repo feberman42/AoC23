{
 "cells": [
  {
   "cell_type": "markdown",
   "metadata": {},
   "source": [
    "Open the Input and read lines as a list."
   ]
  },
  {
   "cell_type": "code",
   "execution_count": 1,
   "metadata": {},
   "outputs": [
    {
     "data": {
      "text/plain": [
       "['342QK 491\\n', '36QAT 619\\n', '85663 606\\n']"
      ]
     },
     "execution_count": 1,
     "metadata": {},
     "output_type": "execute_result"
    }
   ],
   "source": [
    "input = open('input')\n",
    "lines = input.readlines()\n",
    "lines[0:3]"
   ]
  },
  {
   "cell_type": "markdown",
   "metadata": {},
   "source": [
    "Parse the input into a list of games[hand, bid]."
   ]
  },
  {
   "cell_type": "code",
   "execution_count": 2,
   "metadata": {},
   "outputs": [
    {
     "name": "stdout",
     "output_type": "stream",
     "text": [
      "Games:\n",
      "['342QK', 491]\n",
      "['36QAT', 619]\n",
      "['85663', 606]\n",
      "['33K3A', 23]\n",
      "['K7775', 814]\n"
     ]
    }
   ],
   "source": [
    "hands = [line.split()[0] for line in lines]\n",
    "bids = [int(line.split()[1]) for line in lines]\n",
    "games = []\n",
    "for i in range(len(hands)):\n",
    "\tgames.append([hands[i], bids[i]])\n",
    "print('Games:', *games[0:5], sep='\\n')"
   ]
  },
  {
   "cell_type": "markdown",
   "metadata": {},
   "source": [
    "Define functions to check values."
   ]
  },
  {
   "cell_type": "code",
   "execution_count": 3,
   "metadata": {},
   "outputs": [],
   "source": [
    "def\tcheck_kinds(hand: str, number: int) -> bool:\n",
    "\tfor card in hand:\n",
    "\t\tcount = 0\n",
    "\t\tfor _card in hand:\n",
    "\t\t\tif (card == _card or _card == 'J'):\n",
    "\t\t\t\tcount += 1\n",
    "\t\tif count == number:\n",
    "\t\t\treturn True\n",
    "\treturn False"
   ]
  },
  {
   "cell_type": "code",
   "execution_count": 4,
   "metadata": {},
   "outputs": [],
   "source": [
    "def\tcheck_pairs(hand: str) -> bool:\n",
    "\tfor card in hand:\n",
    "\t\tcount = 0\n",
    "\t\tfor _card in hand:\n",
    "\t\t\tif (card == _card):\n",
    "\t\t\t\tcount += 1\n",
    "\t\tif count == 2:\n",
    "\t\t\tpair = card\n",
    "\t\t\tfor _card in hand:\n",
    "\t\t\t\tcount = 0\n",
    "\t\t\t\tif _card == pair:\n",
    "\t\t\t\t\tcontinue\n",
    "\t\t\t\tfor __card in hand:\n",
    "\t\t\t\t\tif (__card == _card):\n",
    "\t\t\t\t\t\tcount += 1\n",
    "\t\t\t\tif (count == 2):\n",
    "\t\t\t\t\treturn True\n",
    "\treturn False"
   ]
  },
  {
   "cell_type": "code",
   "execution_count": 5,
   "metadata": {},
   "outputs": [],
   "source": [
    "def\tcheck_pairs_j(hand: str) -> bool:\n",
    "\tfor card in hand:\n",
    "\t\tcount = 0\n",
    "\t\tfor _card in hand:\n",
    "\t\t\tif (card == _card):\n",
    "\t\t\t\tcount += 1\n",
    "\t\tif count == 2:\n",
    "\t\t\tpair = card\n",
    "\t\t\tfor _card in hand:\n",
    "\t\t\t\tcount = 0\n",
    "\t\t\t\tif _card == pair:\n",
    "\t\t\t\t\tcontinue\n",
    "\t\t\t\tfor __card in hand:\n",
    "\t\t\t\t\tif (__card == _card or __card == 'J'):\n",
    "\t\t\t\t\t\tcount += 1\n",
    "\t\t\t\tif (count == 2):\n",
    "\t\t\t\t\treturn True\n",
    "\treturn False"
   ]
  },
  {
   "cell_type": "code",
   "execution_count": 6,
   "metadata": {},
   "outputs": [],
   "source": [
    "def\tcheck_house(hand: str) -> bool:\n",
    "\tfor card in hand:\n",
    "\t\tcount = 0\n",
    "\t\tfor _card in hand:\n",
    "\t\t\tif (card == _card):\n",
    "\t\t\t\tcount += 1\n",
    "\t\tif count == 3:\n",
    "\t\t\tthree = card\n",
    "\t\t\tfor card in hand:\n",
    "\t\t\t\tcount = 0\n",
    "\t\t\t\tif card == three:\n",
    "\t\t\t\t\tcontinue\n",
    "\t\t\t\tfor _card in hand:\n",
    "\t\t\t\t\tif (_card == card):\n",
    "\t\t\t\t\t\tcount += 1\n",
    "\t\t\t\tif (count == 2):\n",
    "\t\t\t\t\treturn True\n",
    "\tif (check_pairs(hand) and hand.find('J') != -1):\n",
    "\t\treturn True\n",
    "\treturn False"
   ]
  },
  {
   "cell_type": "markdown",
   "metadata": {},
   "source": [
    "Define lists to sort games."
   ]
  },
  {
   "cell_type": "code",
   "execution_count": 7,
   "metadata": {},
   "outputs": [],
   "source": [
    "fives = []\n",
    "fours = []\n",
    "houses = []\n",
    "threes = []\n",
    "pairs = []\n",
    "twos = []\n",
    "highs = []"
   ]
  },
  {
   "cell_type": "markdown",
   "metadata": {},
   "source": [
    "Populate those lists based on the type of games."
   ]
  },
  {
   "cell_type": "code",
   "execution_count": 13,
   "metadata": {},
   "outputs": [],
   "source": [
    "for game in games:\n",
    "\tif (check_kinds(game[0], 5)):\n",
    "\t\tfives.append(game)\n",
    "\telif (check_kinds(game[0], 4)):\n",
    "\t\tfours.append(game)\n",
    "\telif (check_house(game[0])):\n",
    "\t\thouses.append(game)\n",
    "\telif (check_kinds(game[0], 3)):\n",
    "\t\tthrees.append(game)\n",
    "\telif (check_pairs_j(game[0])):\n",
    "\t\tpairs.append(game)\n",
    "\telif (check_kinds(game[0], 2)):\n",
    "\t\ttwos.append(game)\n",
    "\telse:\n",
    "\t\thighs.append(game)"
   ]
  },
  {
   "cell_type": "markdown",
   "metadata": {},
   "source": [
    "Define helper fuctions to sort games."
   ]
  },
  {
   "cell_type": "code",
   "execution_count": 9,
   "metadata": {},
   "outputs": [],
   "source": [
    "def\tis_smaller(smaller: str, than: str) -> bool:\n",
    "\tref = 'AKQT98765432J'\n",
    "\tfor i in range(len(smaller)):\n",
    "\t\tif (ref.index(smaller[i]) < ref.index(than[i])):\n",
    "\t\t\treturn False\n",
    "\t\telif (ref.index(smaller[i]) > ref.index(than[i])):\n",
    "\t\t\treturn True\n",
    "\treturn False"
   ]
  },
  {
   "cell_type": "code",
   "execution_count": 10,
   "metadata": {},
   "outputs": [],
   "source": [
    "def\tfind_lowest(_list: list) -> list:\n",
    "\tlowest = _list[0]\n",
    "\tfor hand in _list:\n",
    "\t\tif (is_smaller(hand[0], lowest[0])):\n",
    "\t\t\tlowest = hand\n",
    "\treturn (lowest)"
   ]
  },
  {
   "cell_type": "markdown",
   "metadata": {},
   "source": [
    "Sort all the type lists back into one list."
   ]
  },
  {
   "cell_type": "code",
   "execution_count": 14,
   "metadata": {},
   "outputs": [
    {
     "data": {
      "text/plain": [
       "[['AJAAA', 797],\n",
       " ['KJKKK', 720],\n",
       " ['QJQQQ', 61],\n",
       " ['TTTJT', 76],\n",
       " ['TTJJT', 355],\n",
       " ['8888J', 793],\n",
       " ['88J8J', 573],\n",
       " ['88JJJ', 323],\n",
       " ['777J7', 641]]"
      ]
     },
     "execution_count": 14,
     "metadata": {},
     "output_type": "execute_result"
    }
   ],
   "source": [
    "games_sorted = []\n",
    "now = highs\n",
    "while (len(now) > 0):\n",
    "\ttmp = find_lowest(now)\n",
    "\tnow.remove(tmp)\n",
    "\tgames_sorted.append(tmp)\n",
    "now = twos\n",
    "while (len(now) > 0):\n",
    "\ttmp = find_lowest(now)\n",
    "\tnow.remove(tmp)\n",
    "\tgames_sorted.append(tmp)\n",
    "now = pairs\n",
    "while (len(now) > 0):\n",
    "\ttmp = find_lowest(now)\n",
    "\tnow.remove(tmp)\n",
    "\tgames_sorted.append(tmp)\n",
    "now = threes\n",
    "while (len(now) > 0):\n",
    "\ttmp = find_lowest(now)\n",
    "\tnow.remove(tmp)\n",
    "\tgames_sorted.append(tmp)\n",
    "now = houses\n",
    "while (len(now) > 0):\n",
    "\ttmp = find_lowest(now)\n",
    "\tnow.remove(tmp)\n",
    "\tgames_sorted.append(tmp)\n",
    "now = fours\n",
    "while (len(now) > 0):\n",
    "\ttmp = find_lowest(now)\n",
    "\tnow.remove(tmp)\n",
    "\tgames_sorted.append(tmp)\n",
    "now = fives\n",
    "while (len(now) > 0):\n",
    "\ttmp = find_lowest(now)\n",
    "\tnow.remove(tmp)\n",
    "\tgames_sorted.append(tmp)\n",
    "games_sorted[1000:990:-1]"
   ]
  },
  {
   "cell_type": "markdown",
   "metadata": {},
   "source": [
    "Add up the values of each game."
   ]
  },
  {
   "cell_type": "code",
   "execution_count": 15,
   "metadata": {},
   "outputs": [
    {
     "data": {
      "text/plain": [
       "244848487"
      ]
     },
     "execution_count": 15,
     "metadata": {},
     "output_type": "execute_result"
    }
   ],
   "source": [
    "result = 0\n",
    "multiplier = 1\n",
    "for game in games_sorted:\n",
    "\tresult += int(game[1]) * multiplier\n",
    "\tmultiplier += 1\n",
    "result"
   ]
  }
 ],
 "metadata": {
  "kernelspec": {
   "display_name": "Python 3",
   "language": "python",
   "name": "python3"
  },
  "language_info": {
   "codemirror_mode": {
    "name": "ipython",
    "version": 3
   },
   "file_extension": ".py",
   "mimetype": "text/x-python",
   "name": "python",
   "nbconvert_exporter": "python",
   "pygments_lexer": "ipython3",
   "version": "3.10.12"
  }
 },
 "nbformat": 4,
 "nbformat_minor": 2
}
