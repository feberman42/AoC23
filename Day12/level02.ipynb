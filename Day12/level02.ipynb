{
 "cells": [
  {
   "cell_type": "markdown",
   "metadata": {},
   "source": [
    "Read input into springs (list[list[str]]) and groups (list[list[int]])."
   ]
  },
  {
   "cell_type": "code",
   "execution_count": 161,
   "metadata": {},
   "outputs": [
    {
     "name": "stdout",
     "output_type": "stream",
     "text": [
      "['?', '?', '?', '.', '#', '#', '#'] [1, 1, 3]\n"
     ]
    }
   ],
   "source": [
    "lines = open('test').readlines()\n",
    "springs = [[i for i in spring] for spring in [line.strip('\\n').split()[0] for line in lines]]\n",
    "groups = [[int(i) for i in spring.split(',')] for spring in [line.strip('\\n').split()[1] for line in lines]]\n",
    "print(springs[0], groups[0])"
   ]
  },
  {
   "cell_type": "code",
   "execution_count": 162,
   "metadata": {},
   "outputs": [
    {
     "name": "stdout",
     "output_type": "stream",
     "text": [
      "[1, 1, 3, 1, 1, 3, 1, 1, 3, 1, 1, 3, 1, 1, 3]\n"
     ]
    }
   ],
   "source": [
    "for i in range(len(springs)):\n",
    "\tsprings[i].append('?')\n",
    "\tsprings[i] *= 5\n",
    "\tsprings[i].pop(-1)\n",
    "\tgroups[i] *= 5\n",
    "print(groups[0])"
   ]
  },
  {
   "cell_type": "markdown",
   "metadata": {},
   "source": [
    "Define function to check if a spring is in line with the groups."
   ]
  },
  {
   "cell_type": "code",
   "execution_count": 163,
   "metadata": {},
   "outputs": [],
   "source": [
    "def\tcheck(spring: list[str], group: list[int]) -> bool:\n",
    "\tif ('?' in spring):\n",
    "\t\treturn False\n",
    "\t_group = 0\n",
    "\tj = 0\n",
    "\tfor i in range(len(spring)):\n",
    "\t\tif (spring[i] == '.' and _group != 0):\n",
    "\t\t\tif (j >= len(group)):\n",
    "\t\t\t\treturn False\n",
    "\t\t\tif (group[j] != _group):\n",
    "\t\t\t\treturn False\n",
    "\t\t\tj += 1\n",
    "\t\t\t_group = 0\n",
    "\t\telif (spring[i] == '#'):\n",
    "\t\t\t_group += 1\n",
    "\tif (_group == 0 and j == len(group)):\n",
    "\t\treturn True\n",
    "\telif (j == len(group) - 1):\n",
    "\t\tif (_group == group[j]):\n",
    "\t\t\treturn True\n",
    "\t\telse:\n",
    "\t\t\treturn False\n",
    "\telse:\n",
    "\t\treturn False\n",
    "\t"
   ]
  },
  {
   "cell_type": "code",
   "execution_count": 164,
   "metadata": {},
   "outputs": [],
   "source": [
    "def\tpossible(spring: list[str], group: list[int]) -> bool:\n",
    "\t_group = 0\n",
    "\tgroup_len = len(group)\n",
    "\tj = 0\n",
    "\tfor i in range(len(spring)):\n",
    "\t\tif (spring[i] == '.' and _group != 0):\n",
    "\t\t\tif (j >= group_len):\n",
    "\t\t\t\treturn False\n",
    "\t\t\tif (group[j] != _group):\n",
    "\t\t\t\treturn False\n",
    "\t\t\tj += 1\n",
    "\t\t\t_group = 0\n",
    "\t\telif (spring[i] == '#'):\n",
    "\t\t\t_group += 1\n",
    "\t\telif (spring[i] == '?'):\n",
    "\t\t\tremain = 0\n",
    "\t\t\tfor k in range(j + 1, group_len):\n",
    "\t\t\t\tremain += group[k] + 1\n",
    "\t\t\tif (len(spring) - i >= (remain - 1)):\n",
    "\t\t\t\treturn True\n",
    "\t\t\telse:\n",
    "\t\t\t\treturn False\n",
    "\tif (_group == 0 and j == group_len):\n",
    "\t\treturn True\n",
    "\telif (j == group_len - 1):\n",
    "\t\tif (_group == group[j]):\n",
    "\t\t\treturn True\n",
    "\t\telse:\n",
    "\t\t\treturn False\n",
    "\telse:\n",
    "\t\treturn False"
   ]
  },
  {
   "cell_type": "code",
   "execution_count": 165,
   "metadata": {},
   "outputs": [],
   "source": [
    "def\tprocess_spring(spring: list[str], group: list[int]) -> int:\n",
    "\tif '?' not in spring:\n",
    "\t\tif check(spring, group) == True:\n",
    "\t\t\treturn 1\n",
    "\t\telse:\n",
    "\t\t\treturn 0\n",
    "\telif (possible(spring, group) == False):\n",
    "\t\treturn 0\n",
    "\ti = spring.index('?')\n",
    "\tspring_w = spring.copy()\n",
    "\tspring_w[i] = '.'\n",
    "\tspring[i] = '#'\n",
    "\treturn (process_spring(spring_w, group) + process_spring(spring, group))"
   ]
  },
  {
   "cell_type": "code",
   "execution_count": 152,
   "metadata": {},
   "outputs": [
    {
     "data": {
      "text/plain": [
       "2"
      ]
     },
     "execution_count": 152,
     "metadata": {},
     "output_type": "execute_result"
    }
   ],
   "source": [
    "process_spring(springs[3], groups[3])"
   ]
  },
  {
   "cell_type": "code",
   "execution_count": 166,
   "metadata": {},
   "outputs": [
    {
     "name": "stdout",
     "output_type": "stream",
     "text": [
      "0\n",
      "1\n",
      "2\n",
      "3\n",
      "4\n",
      "5\n"
     ]
    }
   ],
   "source": [
    "sum = 0\n",
    "for i in range(len(springs)):\n",
    "\tprint(i)\n",
    "\tsum += process_spring(springs[i], groups[i])"
   ]
  },
  {
   "cell_type": "code",
   "execution_count": 167,
   "metadata": {},
   "outputs": [
    {
     "data": {
      "text/plain": [
       "525152"
      ]
     },
     "execution_count": 167,
     "metadata": {},
     "output_type": "execute_result"
    }
   ],
   "source": [
    "sum"
   ]
  },
  {
   "cell_type": "code",
   "execution_count": 151,
   "metadata": {},
   "outputs": [
    {
     "name": "stdout",
     "output_type": "stream",
     "text": [
      "['#', '.', '#', '.', '#', '#', '#']\n"
     ]
    },
    {
     "data": {
      "text/plain": [
       "1"
      ]
     },
     "execution_count": 151,
     "metadata": {},
     "output_type": "execute_result"
    }
   ],
   "source": [
    "process_spring(['?','?','?','.','#','#','#'], [1, 1, 3])"
   ]
  },
  {
   "cell_type": "code",
   "execution_count": 152,
   "metadata": {},
   "outputs": [
    {
     "name": "stdout",
     "output_type": "stream",
     "text": [
      "['.', '#', '#', '#', '.', '.', '.', '.', '#', '#', '.', '#']\n",
      "['.', '#', '#', '#', '.', '.', '.', '#', '#', '.', '.', '#']\n",
      "['.', '#', '#', '#', '.', '.', '.', '#', '#', '.', '#', '.']\n",
      "['.', '#', '#', '#', '.', '.', '#', '#', '.', '.', '.', '#']\n",
      "['.', '#', '#', '#', '.', '.', '#', '#', '.', '.', '#', '.']\n",
      "['.', '#', '#', '#', '.', '.', '#', '#', '.', '#', '.', '.']\n",
      "['.', '#', '#', '#', '.', '#', '#', '.', '.', '.', '.', '#']\n",
      "['.', '#', '#', '#', '.', '#', '#', '.', '.', '.', '#', '.']\n",
      "['.', '#', '#', '#', '.', '#', '#', '.', '.', '#', '.', '.']\n",
      "['.', '#', '#', '#', '.', '#', '#', '.', '#', '.', '.', '.']\n"
     ]
    },
    {
     "data": {
      "text/plain": [
       "10"
      ]
     },
     "execution_count": 152,
     "metadata": {},
     "output_type": "execute_result"
    }
   ],
   "source": [
    "process_spring(['?','#','#','#','?','?','?','?','?','?','?','?'], [3, 2, 1])"
   ]
  },
  {
   "cell_type": "code",
   "execution_count": 117,
   "metadata": {},
   "outputs": [
    {
     "data": {
      "text/plain": [
       "False"
      ]
     },
     "execution_count": 117,
     "metadata": {},
     "output_type": "execute_result"
    }
   ],
   "source": [
    "check(['.','#','.','.','#','#','#'], [1, 1, 3])\n"
   ]
  },
  {
   "cell_type": "code",
   "execution_count": 135,
   "metadata": {},
   "outputs": [
    {
     "data": {
      "text/plain": [
       "['.', '?', '?', '.', '#', '#', '#']"
      ]
     },
     "execution_count": 135,
     "metadata": {},
     "output_type": "execute_result"
    }
   ],
   "source": [
    "s = ['?','?','?','.','#','#','#']\n",
    "s[0] = '#'\n",
    "s[0] = '.'\n",
    "s"
   ]
  },
  {
   "cell_type": "code",
   "execution_count": null,
   "metadata": {},
   "outputs": [],
   "source": []
  }
 ],
 "metadata": {
  "kernelspec": {
   "display_name": "Python 3",
   "language": "python",
   "name": "python3"
  },
  "language_info": {
   "codemirror_mode": {
    "name": "ipython",
    "version": 3
   },
   "file_extension": ".py",
   "mimetype": "text/x-python",
   "name": "python",
   "nbconvert_exporter": "python",
   "pygments_lexer": "ipython3",
   "version": "3.10.12"
  }
 },
 "nbformat": 4,
 "nbformat_minor": 2
}
