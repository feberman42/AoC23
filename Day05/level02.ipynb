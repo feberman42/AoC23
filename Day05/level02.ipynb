{
 "cells": [
  {
   "cell_type": "code",
   "execution_count": 1,
   "metadata": {},
   "outputs": [],
   "source": [
    "from typing import List, Tuple"
   ]
  },
  {
   "cell_type": "code",
   "execution_count": 2,
   "metadata": {},
   "outputs": [],
   "source": [
    "input = open('input_raw')\n",
    "lines = input.readlines()"
   ]
  },
  {
   "cell_type": "code",
   "execution_count": 50,
   "metadata": {},
   "outputs": [
    {
     "data": {
      "text/plain": [
       "22756241"
      ]
     },
     "execution_count": 50,
     "metadata": {},
     "output_type": "execute_result"
    }
   ],
   "source": [
    "seeds = lines[0].strip('seeds: \\n').split()\n",
    "s = 12\n",
    "test = [i for i in range(int(seeds[s]), (int(seeds[s]) + int(seeds[s + 1])), 49)]\n",
    "len(test)"
   ]
  },
  {
   "cell_type": "code",
   "execution_count": 34,
   "metadata": {},
   "outputs": [],
   "source": [
    "def find_sublist(header_: str, input_: List[str]) -> Tuple[int, int]:\n",
    "    start_ = next(i for i, s in enumerate(input_) if s.startswith(header_))\n",
    "    end = next((i for i, s in enumerate(input_[start_:]) if s == '\\n'), len(input_))\n",
    "\n",
    "    return start_, start_ + end"
   ]
  },
  {
   "cell_type": "code",
   "execution_count": 16,
   "metadata": {},
   "outputs": [],
   "source": [
    "tmp = find_sublist('seed-to-soil', lines)\n",
    "seed_to_soil = [[int(i) for i in line] for line in [i.split() for i in lines[tmp[0] + 1:tmp[1]]]]\n",
    "tmp = find_sublist('soil-to-fertilizer', lines)\n",
    "soil_to_fertilizer = [[int(i) for i in line] for line in [i.split() for i in lines[tmp[0] + 1:tmp[1]]]]\n",
    "tmp = find_sublist('fertilizer-to-water', lines)\n",
    "fertilizer_to_water = [[int(i) for i in line] for line in [i.split() for i in lines[tmp[0] + 1:tmp[1]]]]\n",
    "tmp = find_sublist('water-to-light', lines)\n",
    "water_to_light = [[int(i) for i in line] for line in [i.split() for i in lines[tmp[0] + 1:tmp[1]]]]\n",
    "tmp = find_sublist('light-to-temperature', lines)\n",
    "light_to_temperature = [[int(i) for i in line] for line in [i.split() for i in lines[tmp[0] + 1:tmp[1]]]]\n",
    "tmp = find_sublist('temperature-to-humidity', lines)\n",
    "temperature_to_humidity = [[int(i) for i in line] for line in [i.split() for i in lines[tmp[0] + 1:tmp[1]]]]\n",
    "tmp = find_sublist('humidity-to-location', lines)\n",
    "humidity_to_location = [[int(i) for i in line] for line in [i.split() for i in lines[tmp[0] + 1:tmp[1]]]]"
   ]
  },
  {
   "cell_type": "code",
   "execution_count": 51,
   "metadata": {},
   "outputs": [
    {
     "name": "stdout",
     "output_type": "stream",
     "text": [
      "10243543 15666248\n"
     ]
    }
   ],
   "source": [
    "location = 1000000000\n",
    "max = len(test)\n",
    "seed_ = -1\n",
    "dst = src = rng = 0\n",
    "for seed in test:\n",
    "\tmap_ = seed\n",
    "\tfor i in seed_to_soil:\n",
    "\t\tdst, src, rng = i[0], i[1], i[2]\n",
    "\t\tif (map_ >= src and map_ <= src + rng):\n",
    "\t\t\tmap_ = map_ - src + dst\n",
    "\t\t\tbreak\n",
    "\tfor i in soil_to_fertilizer:\n",
    "\t\tdst, src, rng = i[0], i[1], i[2]\n",
    "\t\tif (map_ >= src and map_ <= src + rng):\n",
    "\t\t\tmap_ = map_ - src + dst\n",
    "\t\t\tbreak\n",
    "\tfor i in fertilizer_to_water:\n",
    "\t\tdst, src, rng = i[0], i[1], i[2]\n",
    "\t\tif (map_ >= src and map_ <= src + rng):\n",
    "\t\t\tmap_ = map_ - src + dst\n",
    "\t\t\tbreak\n",
    "\tfor i in water_to_light:\n",
    "\t\tdst, src, rng = i[0], i[1], i[2]\n",
    "\t\tif (map_ >= src and map_ <= src + rng):\n",
    "\t\t\tmap_ = map_ - src + dst\n",
    "\t\t\tbreak\n",
    "\tfor i in light_to_temperature:\n",
    "\t\tdst, src, rng = i[0], i[1], i[2]\n",
    "\t\tif (map_ >= src and map_ <= src + rng):\n",
    "\t\t\tmap_ = map_ - src + dst\n",
    "\t\t\tbreak\n",
    "\tfor i in temperature_to_humidity:\n",
    "\t\tdst, src, rng = i[0], i[1], i[2]\n",
    "\t\tif (map_ >= src and map_ <= src + rng):\n",
    "\t\t\tmap_ = map_ - src + dst\n",
    "\t\t\tbreak\n",
    "\tfor i in humidity_to_location:\n",
    "\t\tdst, src, rng = i[0], i[1], i[2]\n",
    "\t\tif (map_ >= src and map_ <= src + rng):\n",
    "\t\t\tmap_ = map_ - src + dst\n",
    "\t\t\tbreak\n",
    "\tif map_ < location:\n",
    "\t\tlocation = map_\n",
    "\t\tseed_ = test.index(seed)\n",
    "print(str(location) + ' ' + str(seed_))\n"
   ]
  },
  {
   "cell_type": "markdown",
   "metadata": {},
   "source": [
    "0  131580575 \t0  \n",
    "2  1000000000 \t-1  \n",
    "4  69410010 \t140707900  \n",
    "4  69409980 \t140707870\n",
    "6  115205510 \t15532400  \n",
    "8  36826212 \t117295240  \n",
    "10 428616078 \t138863900  \n",
    "12 10243591 \t767646200  \n",
    "12 10243543 \t15666248 * 49\n",
    "14 32926710 \t18998400  \n",
    "16 45950833 \t126473100  \n",
    "18 6082925 \t\t132753600  \n",
    "18 6082855 \t\t132753530  \n",
    "18 6082853 \t\t132753528\n",
    "\n",
    "\n",
    "\n",
    "\n"
   ]
  },
  {
   "cell_type": "code",
   "execution_count": null,
   "metadata": {},
   "outputs": [],
   "source": [
    "n = 0\n",
    "for i, seed in enumerate(seeds):\n",
    "\tif (i % 2 != 0):\n",
    "\t\tn += int(seed)\n",
    "n"
   ]
  },
  {
   "cell_type": "code",
   "execution_count": null,
   "metadata": {},
   "outputs": [],
   "source": []
  }
 ],
 "metadata": {
  "kernelspec": {
   "display_name": "Python 3",
   "language": "python",
   "name": "python3"
  },
  "language_info": {
   "codemirror_mode": {
    "name": "ipython",
    "version": 3
   },
   "file_extension": ".py",
   "mimetype": "text/x-python",
   "name": "python",
   "nbconvert_exporter": "python",
   "pygments_lexer": "ipython3",
   "version": "3.10.12"
  }
 },
 "nbformat": 4,
 "nbformat_minor": 2
}
