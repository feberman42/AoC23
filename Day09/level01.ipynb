{
 "cells": [
  {
   "cell_type": "markdown",
   "metadata": {},
   "source": [
    "Open the Input and read lines as a list."
   ]
  },
  {
   "cell_type": "code",
   "execution_count": 2,
   "metadata": {},
   "outputs": [
    {
     "data": {
      "text/plain": [
       "['27 49 92 176 327 586 1039 1879 3511 6711 12850 24194 44291 78456 134365 222769 358339 560653 855336 1275364 1862543\\n',\n",
       " '15 25 36 57 117 286 706 1643 3584 7420 14791 28745 55012 104457 197703 373565 703877 1318603 2446886 4482001 8081143\\n',\n",
       " '2 -1 -1 5 35 140 429 1101 2482 5067 9586 17171 29829 51664 91688 169675 327410 648943 1295161 2560233 4960367\\n']"
      ]
     },
     "execution_count": 2,
     "metadata": {},
     "output_type": "execute_result"
    }
   ],
   "source": [
    "input = open('input')\n",
    "lines = input.readlines()\n",
    "lines[0:3]"
   ]
  },
  {
   "cell_type": "markdown",
   "metadata": {},
   "source": [
    "Parse the input into lists of integers."
   ]
  },
  {
   "cell_type": "code",
   "execution_count": 15,
   "metadata": {},
   "outputs": [
    {
     "name": "stdout",
     "output_type": "stream",
     "text": [
      "[27, 49, 92, 176, 327, 586, 1039, 1879, 3511, 6711, 12850, 24194, 44291, 78456, 134365, 222769, 358339, 560653, 855336, 1275364, 1862543]\n",
      "[15, 25, 36, 57, 117, 286, 706, 1643, 3584, 7420, 14791, 28745, 55012, 104457, 197703, 373565, 703877, 1318603, 2446886, 4482001, 8081143]\n",
      "[2, -1, -1, 5, 35, 140, 429, 1101, 2482, 5067, 9586, 17171, 29829, 51664, 91688, 169675, 327410, 648943, 1295161, 2560233, 4960367]\n",
      "[17, 40, 75, 124, 195, 314, 553, 1083, 2269, 4852, 10332, 21799, 45683, 95258, 197352, 404834, 819561, 1634448, 3210609, 6218318, 11892083]\n",
      "[12, 28, 47, 77, 148, 320, 690, 1410, 2740, 5170, 9648, 17942, 33138, 60228, 106667, 182671, 300884, 474856, 715541, 1024739, 1384064]\n"
     ]
    }
   ],
   "source": [
    "readings = [[int(num) for num in reading] for reading in [i.strip('\\n').split() for i in lines]]\n",
    "print(*readings[:5], sep='\\n')"
   ]
  },
  {
   "cell_type": "markdown",
   "metadata": {},
   "source": [
    "Define recursive function to extrapolate a list (forward)."
   ]
  },
  {
   "cell_type": "code",
   "execution_count": 19,
   "metadata": {},
   "outputs": [],
   "source": [
    "def\textrapolate(_list: list[int]) -> int:\n",
    "\tif (sorted(_list)[0] == sorted(_list)[-1]):\n",
    "\t\treturn _list[0]\n",
    "\textra = []\n",
    "\tfor i in range(len(_list) - 1):\n",
    "\t\textra.append(_list[i + 1] - _list[i])\n",
    "\treturn _list[-1] + extrapolate(extra)"
   ]
  },
  {
   "cell_type": "markdown",
   "metadata": {},
   "source": [
    "Sum up all the extrapolations."
   ]
  },
  {
   "cell_type": "code",
   "execution_count": 23,
   "metadata": {},
   "outputs": [
    {
     "data": {
      "text/plain": [
       "1842168671"
      ]
     },
     "execution_count": 23,
     "metadata": {},
     "output_type": "execute_result"
    }
   ],
   "source": [
    "sum = 0\n",
    "for i in readings:\n",
    "\tsum += extrapolate(i)\n",
    "sum"
   ]
  }
 ],
 "metadata": {
  "kernelspec": {
   "display_name": "Python 3",
   "language": "python",
   "name": "python3"
  },
  "language_info": {
   "codemirror_mode": {
    "name": "ipython",
    "version": 3
   },
   "file_extension": ".py",
   "mimetype": "text/x-python",
   "name": "python",
   "nbconvert_exporter": "python",
   "pygments_lexer": "ipython3",
   "version": "3.10.12"
  }
 },
 "nbformat": 4,
 "nbformat_minor": 2
}
